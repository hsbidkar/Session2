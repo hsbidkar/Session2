{
 "cells": [
  {
   "cell_type": "markdown",
   "metadata": {},
   "source": [
    "# Assignment 2"
   ]
  },
  {
   "cell_type": "markdown",
   "metadata": {},
   "source": [
    "## Task 1.1.1 : Write a Python Program to implement your own myreduce() function which works exactly like Python's built-in function reduce() "
   ]
  },
  {
   "cell_type": "code",
   "execution_count": 1,
   "metadata": {},
   "outputs": [
    {
     "name": "stdout",
     "output_type": "stream",
     "text": [
      "20 22\n",
      "42 58\n",
      "100 47\n",
      "147 57\n"
     ]
    },
    {
     "data": {
      "text/plain": [
       "204"
      ]
     },
     "execution_count": 1,
     "metadata": {},
     "output_type": "execute_result"
    }
   ],
   "source": [
    "def myreduce(function, lists):\n",
    "    args = lists[0]\n",
    "    for i in lists[1:]:\n",
    "        args = function(args, i)\n",
    "    return args\n",
    "\n",
    "def add_c(x,y):\n",
    "    print(x,y)\n",
    "    return x+y\n",
    "\n",
    "a=[20,22,58,47,57]\n",
    "\n",
    "myreduce (add_c,a)\n"
   ]
  },
  {
   "cell_type": "code",
   "execution_count": 2,
   "metadata": {},
   "outputs": [
    {
     "data": {
      "text/plain": [
       "204"
      ]
     },
     "execution_count": 2,
     "metadata": {},
     "output_type": "execute_result"
    }
   ],
   "source": [
    "a=[20,22,58,47,57]\n",
    "\n",
    "myreduce( lambda x, y: x+y, a)"
   ]
  },
  {
   "cell_type": "markdown",
   "metadata": {},
   "source": [
    "## Task 1.1.2 : Write a Python Program to implement your own myfilter() function which works exactly like Python's built-in function filter() "
   ]
  },
  {
   "cell_type": "code",
   "execution_count": 3,
   "metadata": {},
   "outputs": [],
   "source": [
    "#def myfilter(function,lists):\n",
    "#    result=[]\n",
    "#   for i in lists[:]:\n",
    "#       if function(i) :\n",
    "#           result.append(i)\n",
    "#   return result\n",
    "\n",
    "def myfilter(function,args):\n",
    "    if function is not None:\n",
    "        return [x for x in args if function(x)]\n",
    "    else :\n",
    "        return [x for x in args if x]\n",
    "\n",
    "\n",
    "def checkvowel(word):\n",
    "    if 'a' in word or 'e' in word or 'i' in word or 'o' in word or 'u' in word:\n",
    "        return True"
   ]
  },
  {
   "cell_type": "code",
   "execution_count": 4,
   "metadata": {},
   "outputs": [
    {
     "data": {
      "text/plain": [
       "['you', 'are', 'hero', 'ba', 'jfajsd']"
      ]
     },
     "execution_count": 4,
     "metadata": {},
     "output_type": "execute_result"
    }
   ],
   "source": [
    "sentence=\"you are my 123 hero ba trq jsgdnd fhd jfajsd \"\n",
    "\n",
    "wordswithvowel=list(myfilter(checkvowel,sentence.split()))\n",
    "wordswithvowel"
   ]
  },
  {
   "cell_type": "code",
   "execution_count": 5,
   "metadata": {},
   "outputs": [
    {
     "data": {
      "text/plain": [
       "[-3, -2, -1, 0]"
      ]
     },
     "execution_count": 5,
     "metadata": {},
     "output_type": "execute_result"
    }
   ],
   "source": [
    "a=range(-3,6)\n",
    "\n",
    "myfilter(lambda x:x<=0,a)"
   ]
  },
  {
   "cell_type": "code",
   "execution_count": 10,
   "metadata": {},
   "outputs": [
    {
     "data": {
      "text/plain": [
       "['1', 2, 8, True, 'abc']"
      ]
     },
     "execution_count": 10,
     "metadata": {},
     "output_type": "execute_result"
    }
   ],
   "source": [
    "b=['1',2,8,True,False,\"abc\",'']\n",
    "myfilter(None,b)"
   ]
  },
  {
   "cell_type": "code",
   "execution_count": 9,
   "metadata": {},
   "outputs": [
    {
     "data": {
      "text/plain": [
       "['False', 2, 8, True, 'abc']"
      ]
     },
     "execution_count": 9,
     "metadata": {},
     "output_type": "execute_result"
    }
   ],
   "source": [
    "b=['False',2,8,True,False,\"abc\",'']\n",
    "myfilter(None,b)"
   ]
  },
  {
   "cell_type": "markdown",
   "metadata": {},
   "source": [
    "## Task 1.2 : Write List comprehensions to produce the following Lists\n",
    "**['A','C','A','D','G','I','L','D']**\n",
    "\n",
    "**['x', 'xx', 'xxx', 'xxxx', 'y', 'yy', 'yyy', 'yyyy', 'z', 'zz', 'zzz', 'zzzz']**\n",
    "\n",
    "**['x', 'y', 'z', 'xx', 'yy', 'zz', 'xx', 'yy', 'zz', 'xxxx', 'yyyy', 'zzzz']**\n",
    "\n",
    "**[[2], [3], [4], [3], [4], [5], [4], [5], [6]]**\n",
    "\n",
    "**[[2, 3, 4, 5], [3, 4, 5, 6], [4, 5, 6, 7], [5, 6, 7, 8]]**\n",
    "\n",
    "**[(1, 1), (2, 1), (3, 1), (1, 2), (2, 2), (3, 2), (1, 3), (2, 3), (3, 3)]**"
   ]
  },
  {
   "cell_type": "code",
   "execution_count": 7,
   "metadata": {},
   "outputs": [
    {
     "data": {
      "text/plain": [
       "['A', 'C', 'A', 'D', 'G', 'I', 'L', 'D']"
      ]
     },
     "execution_count": 7,
     "metadata": {},
     "output_type": "execute_result"
    }
   ],
   "source": [
    "str1=\"ACADGILD\"\n",
    "str1_op=[x for x in str1]\n",
    "str1_op"
   ]
  },
  {
   "cell_type": "code",
   "execution_count": 11,
   "metadata": {},
   "outputs": [
    {
     "data": {
      "text/plain": [
       "['x', 'xx', 'xxx', 'xxxx', 'y', 'yy', 'yyy', 'yyyy', 'z', 'zz', 'zzz', 'zzzz']"
      ]
     },
     "execution_count": 11,
     "metadata": {},
     "output_type": "execute_result"
    }
   ],
   "source": [
    "str2=\"xyz\"\n",
    "nums2=range(1,5)\n",
    "str2_op=[a*b for a in str2 for b in nums2]\n",
    "str2_op"
   ]
  },
  {
   "cell_type": "code",
   "execution_count": 12,
   "metadata": {},
   "outputs": [
    {
     "data": {
      "text/plain": [
       "['x', 'y', 'z', 'xx', 'yy', 'zz', 'xxx', 'yyy', 'zzz', 'xxxx', 'yyyy', 'zzzz']"
      ]
     },
     "execution_count": 12,
     "metadata": {},
     "output_type": "execute_result"
    }
   ],
   "source": [
    "str3=\"xyz\"\n",
    "nums3=range(1,5)\n",
    "str3_op=[a*b for b in nums3 for a in str2]\n",
    "str3_op"
   ]
  },
  {
   "cell_type": "code",
   "execution_count": 13,
   "metadata": {},
   "outputs": [
    {
     "data": {
      "text/plain": [
       "[[2], [3], [4], [3], [4], [5], [4], [5], [6]]"
      ]
     },
     "execution_count": 13,
     "metadata": {},
     "output_type": "execute_result"
    }
   ],
   "source": [
    "lst1=[2,3,4]\n",
    "lst2=range(0,3)\n",
    "str4_op=[[a+b] for a in lst1 for b in lst2]\n",
    "str4_op"
   ]
  },
  {
   "cell_type": "code",
   "execution_count": 14,
   "metadata": {},
   "outputs": [
    {
     "data": {
      "text/plain": [
       "[[2, 3, 4, 5], [3, 4, 5, 6], [4, 5, 6, 7], [5, 6, 7, 8]]"
      ]
     },
     "execution_count": 14,
     "metadata": {},
     "output_type": "execute_result"
    }
   ],
   "source": [
    "lst5=[2,3,4,5]\n",
    "str5_op=[]\n",
    "str5_op=[[(lst5[a]+b) for a in range(0,4)] for b in range(0,4) ]\n",
    "str5_op"
   ]
  },
  {
   "cell_type": "code",
   "execution_count": 15,
   "metadata": {},
   "outputs": [
    {
     "data": {
      "text/plain": [
       "[(1, 1), (2, 1), (3, 1), (1, 2), (2, 2), (3, 2), (1, 3), (2, 3), (3, 3)]"
      ]
     },
     "execution_count": 15,
     "metadata": {},
     "output_type": "execute_result"
    }
   ],
   "source": [
    "lst6=[1,2,3]\n",
    "str6_op=[tuple([lst6[a],lst6[b]]) for b in range(0,3)  for a in range(0,3)]\n",
    "str6_op"
   ]
  },
  {
   "cell_type": "markdown",
   "metadata": {},
   "source": [
    "## Task 1.3 : Implement a function longestWord() that takes a list of words and returns the longest one."
   ]
  },
  {
   "cell_type": "code",
   "execution_count": 16,
   "metadata": {},
   "outputs": [
    {
     "data": {
      "text/plain": [
       "'accooooeuntennnunt'"
      ]
     },
     "execution_count": 16,
     "metadata": {},
     "output_type": "execute_result"
    }
   ],
   "source": [
    "def checkalpha(word):\n",
    "    if word.isalpha():\n",
    "        return word\n",
    "    else:\n",
    "        return ''\n",
    "\n",
    "def longestWord(wordlist):\n",
    "    newlist=map(checkalpha,wordlist)\n",
    "    lengthdict={len(x):x for x in newlist}\n",
    "    maxlength=max(lengthdict.keys())\n",
    "    return lengthdict[maxlength]\n",
    "\n",
    "str13 = ['my', 'accooooeuntennnunt', 'balance', 'in', 'account', 'abc123', 'is', '123.456', 'alphanumericword']\n",
    "\n",
    "longestWord(str13)   "
   ]
  },
  {
   "cell_type": "markdown",
   "metadata": {},
   "source": [
    "## Task 2\n",
    "### 1.1 : Write a Python Program(with class concepts) to find the area of the triangle using the formula  ==> area = (s*(s-a)*(s-b)*(s-c)) ** 0.5\n",
    "**Function to take the length of the sides of triangle from user should be defined in the parent\n",
    "class and function to calculate the area should be defined in subclass.**"
   ]
  },
  {
   "cell_type": "code",
   "execution_count": 20,
   "metadata": {},
   "outputs": [
    {
     "name": "stdin",
     "output_type": "stream",
     "text": [
      "Enter side a:  5\n",
      "Enter side b:  5\n",
      "Enter side c:  5\n"
     ]
    },
    {
     "name": "stdout",
     "output_type": "stream",
     "text": [
      "Area of Triangle is 10.825317547305483\n"
     ]
    }
   ],
   "source": [
    "class Shape:\n",
    "    def __init__(self):\n",
    "        self.a=int(input(\"Enter side a: \"))\n",
    "        self.b=int(input(\"Enter side b: \"))\n",
    "        self.c=int(input(\"Enter side c: \"))\n",
    "    \n",
    "class Triangle(Shape):\n",
    "    def __init__(self):\n",
    "        Shape.__init__(self)\n",
    "    \n",
    "    def area(self):\n",
    "        if (( self.a+self.b <= self.c ) | ( self.a+self.c <= self.b ) | ( self.c+self.b <= self.a )) :\n",
    "            return \"not possible as per triangle inequality rule\"\n",
    "        else :\n",
    "            s=(self.a+self.b+self.c)/2\n",
    "            return str((s*(s-self.a)*(s-self.b)*(s-self.c))**0.5)\n",
    "    \n",
    "    def __str__(self):\n",
    "        return \"Area of Triangle is %s\" % (self.area())\n",
    "\n",
    "\n",
    "j = Triangle()\n",
    "print(j)"
   ]
  },
  {
   "cell_type": "markdown",
   "metadata": {},
   "source": [
    "### 1.2 : Write a function filter_long_words() that takes a list of words & an integer n and returns the list of words that are longer than n."
   ]
  },
  {
   "cell_type": "code",
   "execution_count": 22,
   "metadata": {},
   "outputs": [
    {
     "name": "stdout",
     "output_type": "stream",
     "text": [
      "['accoooonnnunt', 'alphanumericword']\n"
     ]
    }
   ],
   "source": [
    "def checkalpha(word):\n",
    "    if word.isalpha():\n",
    "        return word\n",
    "    else:\n",
    "        return ''\n",
    "\n",
    "def filter_long_word(wordlist,n):\n",
    "    newlist=map(checkalpha,wordlist)\n",
    "    lengthdict=[]\n",
    "    for x in newlist:\n",
    "        if (len(x) > int(n)) : \n",
    "            lengthdict.append(x) \n",
    "    print (lengthdict)\n",
    "\n",
    "str14 = ['my', 'accoooonnnunt', 'balance', 'in', 'account', 'abc123', 'is', '123.456', 'alphanumericword']\n",
    "\n",
    "filter_long_word(str14,8)  "
   ]
  },
  {
   "cell_type": "markdown",
   "metadata": {},
   "source": [
    "### 2.1 : Write a Python program using function concept that maps list of words into a list of integers representing the lengths of the corresponding words.\n",
    "**Hint: If a list [ ab,cde,erty] is passed on to the python function output should come as [2,3,4]**"
   ]
  },
  {
   "cell_type": "code",
   "execution_count": 23,
   "metadata": {},
   "outputs": [
    {
     "name": "stdout",
     "output_type": "stream",
     "text": [
      "[2, 13, 7, 2, 7, 6, 2, 7, 16]\n"
     ]
    }
   ],
   "source": [
    "def length_word(wordlist):\n",
    "    lengthdict=[]\n",
    "    for x in list(wordlist):\n",
    "        lengthdict.append(len(str(x)))\n",
    "    print(lengthdict)\n",
    "\n",
    "str15 = ['my', 'accoooonnnunt', 'balance', 'in', 'account', 'abc123', 'is', '123.456', 'alphanumericword']\n",
    "\n",
    "length_word(str15)  \n"
   ]
  },
  {
   "cell_type": "markdown",
   "metadata": {},
   "source": [
    "### 2.2 : Write a Python function which takes a character (i.e. a string of length 1) and returns True if it is a vowel, False otherwise."
   ]
  },
  {
   "cell_type": "code",
   "execution_count": 1,
   "metadata": {},
   "outputs": [
    {
     "name": "stdin",
     "output_type": "stream",
     "text": [
      "Enter a vowel character:  a\n"
     ]
    },
    {
     "data": {
      "text/plain": [
       "True"
      ]
     },
     "execution_count": 1,
     "metadata": {},
     "output_type": "execute_result"
    }
   ],
   "source": [
    "def checkvowel(x):\n",
    "    if ((x == 'a') | (x == 'e') | (x == 'i') | (x == 'o') | (x == 'u')):\n",
    "        return True\n",
    "    else:\n",
    "        return False\n",
    "\n",
    "c_v=input(\"Enter a vowel character: \")\n",
    "checkvowel(c_v)"
   ]
  },
  {
   "cell_type": "code",
   "execution_count": 2,
   "metadata": {},
   "outputs": [
    {
     "name": "stdin",
     "output_type": "stream",
     "text": [
      "Enter a non-vowel character:  d\n"
     ]
    },
    {
     "data": {
      "text/plain": [
       "False"
      ]
     },
     "execution_count": 2,
     "metadata": {},
     "output_type": "execute_result"
    }
   ],
   "source": [
    "c_c=input(\"Enter a non-vowel character: \")\n",
    "checkvowel(c_c)"
   ]
  }
 ],
 "metadata": {
  "kernelspec": {
   "display_name": "Python 3",
   "language": "python",
   "name": "python3"
  },
  "language_info": {
   "codemirror_mode": {
    "name": "ipython",
    "version": 3
   },
   "file_extension": ".py",
   "mimetype": "text/x-python",
   "name": "python",
   "nbconvert_exporter": "python",
   "pygments_lexer": "ipython3",
   "version": "3.7.1"
  }
 },
 "nbformat": 4,
 "nbformat_minor": 2
}
